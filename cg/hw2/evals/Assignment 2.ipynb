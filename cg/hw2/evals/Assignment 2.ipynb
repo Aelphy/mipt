{
 "cells": [
  {
   "cell_type": "code",
   "execution_count": null,
   "metadata": {
    "collapsed": true
   },
   "outputs": [],
   "source": [
    "#ipynb config\n",
    "import sys\n",
    "sys.path.append('..')\n",
    "%load_ext autoreload\n",
    "%autoreload 2"
   ]
  },
  {
   "cell_type": "code",
   "execution_count": null,
   "metadata": {
    "collapsed": true
   },
   "outputs": [],
   "source": [
    "import matplotlib.pyplot as plt\n",
    "import numpy as np\n",
    "\n",
    "import cv2\n",
    "import os\n",
    "\n",
    "plt.style.use('ggplot')\n",
    "\n",
    "%matplotlib inline"
   ]
  },
  {
   "cell_type": "code",
   "execution_count": null,
   "metadata": {
    "collapsed": true
   },
   "outputs": [],
   "source": [
    "def draw_gray(im):\n",
    "    plt.imshow(im, cmap=plt.cm.gray, interpolation='none')\n",
    "    plt.grid(False)\n",
    "    plt.axis('off')\n",
    "    plt.colorbar()\n",
    "    plt.show()"
   ]
  },
  {
   "cell_type": "markdown",
   "metadata": {},
   "source": [
    "# Lets start with test images"
   ]
  },
  {
   "cell_type": "markdown",
   "metadata": {},
   "source": [
    "## Converting to grayscale"
   ]
  },
  {
   "cell_type": "code",
   "execution_count": null,
   "metadata": {
    "collapsed": false
   },
   "outputs": [],
   "source": [
    "input_dir = '../input_imgs/'\n",
    "gray_scale_input = []\n",
    "\n",
    "for img_file in os.listdir(input_dir):\n",
    "    im = cv2.imread(os.path.join('../input_imgs/', img_file))\n",
    "    plt.imshow(cv2.cvtColor(im, cv2.COLOR_BGR2RGB))\n",
    "    plt.grid(False)\n",
    "    plt.axis('off')\n",
    "    plt.show()\n",
    "    \n",
    "    print('shape is: {}'.format(im.shape))\n",
    "    \n",
    "    gray_im = cv2.cvtColor(im, cv2.COLOR_BGR2GRAY)\n",
    "    \n",
    "    draw_gray(gray_im)\n",
    "    \n",
    "    print('shape is: {}'.format(gray_im.shape))\n",
    "    \n",
    "    gray_scale_input.append(gray_im)"
   ]
  },
  {
   "cell_type": "markdown",
   "metadata": {
    "collapsed": false
   },
   "source": [
    "# 1. Binary thresholding"
   ]
  },
  {
   "cell_type": "code",
   "execution_count": null,
   "metadata": {
    "collapsed": false
   },
   "outputs": [],
   "source": [
    "for i, im in enumerate(gray_scale_input):\n",
    "    thresholded_im = im.copy()\n",
    "    thresholded_im[thresholded_im <= 0.5 * 255] = 0\n",
    "    thresholded_im[thresholded_im > 0.5 * 255] = 255\n",
    "        \n",
    "    draw_gray(im)\n",
    "    draw_gray(thresholded_im)\n",
    "    \n",
    "    cv2.imwrite('../output_imgs/binary_threshold{}.png'.format(i), thresholded_im)"
   ]
  },
  {
   "cell_type": "markdown",
   "metadata": {},
   "source": [
    "# 2. Случайный дизеринг"
   ]
  },
  {
   "cell_type": "code",
   "execution_count": null,
   "metadata": {
    "collapsed": false
   },
   "outputs": [],
   "source": [
    "for i, im in enumerate(gray_scale_input):\n",
    "    thresholded_im = im.copy()\n",
    "           \n",
    "    threshold = np.random.random(size=np.prod(thresholded_im.shape)).reshape(thresholded_im.shape)\n",
    "    thresholded_im[thresholded_im <= threshold * 255] = 0\n",
    "    thresholded_im[thresholded_im > threshold * 255]  = 255\n",
    "        \n",
    "    draw_gray(im)\n",
    "    draw_gray(thresholded_im)\n",
    "    cv2.imwrite('../output_imgs/random_dithering{}.png'.format(i), thresholded_im)"
   ]
  },
  {
   "cell_type": "markdown",
   "metadata": {},
   "source": [
    "# 3. Упорядоченный дизеринг"
   ]
  },
  {
   "cell_type": "markdown",
   "metadata": {},
   "source": [
    "## random threshold matrix of different_shape"
   ]
  },
  {
   "cell_type": "code",
   "execution_count": null,
   "metadata": {
    "collapsed": false
   },
   "outputs": [],
   "source": [
    "for k in [3, 10]:\n",
    "    threshold = np.random.random(size=k**2).reshape((k, k))\n",
    "    print('Table shape is: {}'.format(threshold.shape))\n",
    "    \n",
    "    for q, im in enumerate(gray_scale_input):\n",
    "        thresholded_im = im.copy()\n",
    "\n",
    "        for i in range(thresholded_im.shape[0]):\n",
    "            for j in range(thresholded_im.shape[1]):\n",
    "                if thresholded_im[i, j] < threshold[i%threshold.shape[0], j%threshold.shape[1]] * 255:\n",
    "                    thresholded_im[i, j] = 0\n",
    "                else:\n",
    "                    thresholded_im[i, j] = 255\n",
    "\n",
    "        draw_gray(im)\n",
    "        draw_gray(thresholded_im)\n",
    "        \n",
    "        cv2.imwrite('../output_imgs/ordered_random_matrix_dithering{}.png'.format(q), thresholded_im)"
   ]
  },
  {
   "cell_type": "markdown",
   "metadata": {},
   "source": [
    "## using Bayer matrix"
   ]
  },
  {
   "cell_type": "code",
   "execution_count": null,
   "metadata": {
    "collapsed": false
   },
   "outputs": [],
   "source": [
    "threshold = np.array([[1, 3],\n",
    "                      [4, 2]]) / 5.0\n",
    "\n",
    "print('Table shape is: {}'.format(threshold.shape))\n",
    "\n",
    "for q, im in enumerate(gray_scale_input):\n",
    "    thresholded_im = im.copy()\n",
    "\n",
    "    for i in range(thresholded_im.shape[0]):\n",
    "        for j in range(thresholded_im.shape[1]):\n",
    "            if thresholded_im[i, j] < threshold[i%threshold.shape[0], j%threshold.shape[1]] * 255:\n",
    "                thresholded_im[i, j] = 0\n",
    "            else:\n",
    "                thresholded_im[i, j] = 255\n",
    "\n",
    "    draw_gray(im)\n",
    "    draw_gray(thresholded_im)\n",
    "    \n",
    "    cv2.imwrite('../output_imgs/ordered_dithering_{}_{}.png'.format(threshold.shape, q), thresholded_im)"
   ]
  },
  {
   "cell_type": "code",
   "execution_count": null,
   "metadata": {
    "collapsed": false
   },
   "outputs": [],
   "source": [
    "threshold = np.array([[1, 8, 4],\n",
    "                      [7, 6, 3],\n",
    "                      [5, 2, 9]]) / 10.0\n",
    "\n",
    "print('Table shape is: {}'.format(threshold.shape))\n",
    "\n",
    "for q, im in enumerate(gray_scale_input):\n",
    "    thresholded_im = im.copy()\n",
    "\n",
    "    for i in range(thresholded_im.shape[0]):\n",
    "        for j in range(thresholded_im.shape[1]):\n",
    "            if thresholded_im[i, j] < threshold[i%threshold.shape[0], j%threshold.shape[1]] * 255:\n",
    "                thresholded_im[i, j] = 0\n",
    "            else:\n",
    "                thresholded_im[i, j] = 255\n",
    "\n",
    "    draw_gray(im)\n",
    "    draw_gray(thresholded_im)\n",
    "    \n",
    "    cv2.imwrite('../output_imgs/ordered_dithering_{}_{}.png'.format(threshold.shape, q), thresholded_im)"
   ]
  },
  {
   "cell_type": "code",
   "execution_count": null,
   "metadata": {
    "collapsed": false
   },
   "outputs": [],
   "source": [
    "threshold = np.array([[1, 9, 3, 11],\n",
    "                      [13, 5, 15, 7],\n",
    "                      [4, 12, 2, 10],\n",
    "                      [16, 8, 14, 6]]) / 17.0\n",
    "\n",
    "print('Table shape is: {}'.format(threshold.shape))\n",
    "\n",
    "for q, im in enumerate(gray_scale_input):\n",
    "    thresholded_im = im.copy()\n",
    "\n",
    "    for i in range(thresholded_im.shape[0]):\n",
    "        for j in range(thresholded_im.shape[1]):\n",
    "            if thresholded_im[i, j] < threshold[i%threshold.shape[0], j%threshold.shape[1]] * 255:\n",
    "                thresholded_im[i, j] = 0\n",
    "            else:\n",
    "                thresholded_im[i, j] = 255\n",
    "\n",
    "    draw_gray(im)\n",
    "    draw_gray(thresholded_im)\n",
    "    \n",
    "    cv2.imwrite('../output_imgs/ordered_dithering_{}_{}.png'.format(threshold.shape, q), thresholded_im)"
   ]
  },
  {
   "cell_type": "code",
   "execution_count": null,
   "metadata": {
    "collapsed": false
   },
   "outputs": [],
   "source": [
    "threshold = np.array([[1,  49, 13, 61, 4,  52, 16, 64],\n",
    "                      [33, 17, 45, 29, 36, 20, 48, 32],\n",
    "                      [9,  57, 5,  53, 12, 60, 8,  56],\n",
    "                      [41, 25, 37, 21, 44, 28, 40, 24],\n",
    "                      [3,  51, 15, 63, 2,  50, 14, 62],\n",
    "                      [35, 19, 47, 31, 34, 18, 46, 30],\n",
    "                      [11, 59, 7,  55, 10, 58, 6,  54],\n",
    "                      [43, 27, 39, 23, 42, 26, 38, 22]]) / 65.0\n",
    "\n",
    "print('Table shape is: {}'.format(threshold.shape))\n",
    "\n",
    "for q, im in enumerate(gray_scale_input):\n",
    "    thresholded_im = im.copy()\n",
    "\n",
    "    for i in range(thresholded_im.shape[0]):\n",
    "        for j in range(thresholded_im.shape[1]):\n",
    "            if thresholded_im[i, j] < threshold[i%threshold.shape[0], j%threshold.shape[1]] * 255:\n",
    "                thresholded_im[i, j] = 0\n",
    "            else:\n",
    "                thresholded_im[i, j] = 255\n",
    "\n",
    "    draw_gray(im)\n",
    "    draw_gray(thresholded_im)\n",
    "    \n",
    "    cv2.imwrite('../output_imgs/ordered_dithering_{}_{}.png'.format(threshold.shape, q), thresholded_im)"
   ]
  },
  {
   "cell_type": "markdown",
   "metadata": {},
   "source": [
    "# 4. Error diffusion"
   ]
  },
  {
   "cell_type": "markdown",
   "metadata": {},
   "source": [
    "## Вперед по строке"
   ]
  },
  {
   "cell_type": "code",
   "execution_count": null,
   "metadata": {
    "collapsed": false
   },
   "outputs": [],
   "source": [
    "for q, im in enumerate(gray_scale_input):\n",
    "    thresholded_im = im.copy().astype(np.int64)\n",
    "    im_64b = im.astype(np.int64)\n",
    "\n",
    "    for i in range(thresholded_im.shape[0]):\n",
    "        error = 0\n",
    "        for j in range(thresholded_im.shape[1]):            \n",
    "            if (thresholded_im[i, j] + error) < 0.5 * 255:\n",
    "                thresholded_im[i, j] = 0\n",
    "            else:\n",
    "                thresholded_im[i, j] = 255\n",
    "            \n",
    "            error += im_64b[i, j] - thresholded_im[i, j]\n",
    "\n",
    "    draw_gray(im)\n",
    "    draw_gray(thresholded_im)\n",
    "    \n",
    "    cv2.imwrite('../output_imgs/diffusion_forward{}.png'.format(q), thresholded_im)"
   ]
  },
  {
   "cell_type": "markdown",
   "metadata": {},
   "source": [
    "## Вперед по строке для четных и назад для нечетных"
   ]
  },
  {
   "cell_type": "code",
   "execution_count": null,
   "metadata": {
    "collapsed": false
   },
   "outputs": [],
   "source": [
    "for q, im in enumerate(gray_scale_input):\n",
    "    thresholded_im = im.copy().astype(np.int64)\n",
    "    im_64b = im.astype(np.int64)\n",
    "\n",
    "    for i in range(0, thresholded_im.shape[0], 2):\n",
    "        error = 0\n",
    "        \n",
    "        for j in range(thresholded_im.shape[1]):           \n",
    "            if (thresholded_im[i, j] + error) < 0.5 * 255:\n",
    "                thresholded_im[i, j] = 0\n",
    "            else:\n",
    "                thresholded_im[i, j] = 255\n",
    "            \n",
    "            error += im_64b[i, j] - thresholded_im[i, j]\n",
    "            \n",
    "    for i in range(1, thresholded_im.shape[0], 2):\n",
    "        error = 0\n",
    "        \n",
    "        for j in range(thresholded_im.shape[1] - 1, 0, -1):           \n",
    "            if (thresholded_im[i, j] + error) < 0.5 * 255:\n",
    "                thresholded_im[i, j] = 0\n",
    "            else:\n",
    "                thresholded_im[i, j] = 255\n",
    "            \n",
    "            error += im_64b[i, j] - thresholded_im[i, j]\n",
    "\n",
    "    draw_gray(im)\n",
    "    draw_gray(thresholded_im)\n",
    "    \n",
    "    cv2.imwrite('../output_imgs/diffusion_forward_backward{}.png'.format(q), thresholded_im)"
   ]
  },
  {
   "cell_type": "markdown",
   "metadata": {},
   "source": [
    "## Флойд Штейнберг"
   ]
  },
  {
   "cell_type": "code",
   "execution_count": null,
   "metadata": {
    "collapsed": false
   },
   "outputs": [],
   "source": [
    "for q, im in enumerate(gray_scale_input):\n",
    "    im_64b = im.astype(np.int64)\n",
    "    thresholded_im = im_64b.copy()\n",
    "\n",
    "    for i in range(0, thresholded_im.shape[0], 2):        \n",
    "        for j in range(thresholded_im.shape[1]):\n",
    "            oldpixel = thresholded_im[i, j]\n",
    "            \n",
    "            if thresholded_im[i, j] < 0.5 * 255:\n",
    "                thresholded_im[i, j] = 0\n",
    "            else:\n",
    "                thresholded_im[i, j] = 255\n",
    "                \n",
    "            error = oldpixel - thresholded_im[i, j]\n",
    "            \n",
    "            if j + 1 < thresholded_im.shape[1]:\n",
    "                thresholded_im[i,     j + 1] += error * 7 / 16.0\n",
    "            if i + 1 < thresholded_im.shape[0] and j + 1 >= 0:\n",
    "                thresholded_im[i + 1, j - 1] += error * 3 / 16.0\n",
    "            if i + 1 < thresholded_im.shape[0]:\n",
    "                thresholded_im[i + 1, j] += error * 5 / 16.0\n",
    "            if i + 1 < thresholded_im.shape[0] and j + 1 < thresholded_im.shape[1]:\n",
    "                thresholded_im[i + 1, j + 1] += error * 1 / 16.0\n",
    "            \n",
    "    for i in range(1, thresholded_im.shape[0], 2):\n",
    "        for j in range(thresholded_im.shape[1] - 1, 0, -1):           \n",
    "            oldpixel = thresholded_im[i, j]\n",
    "            \n",
    "            if thresholded_im[i, j] < 0.5 * 255:\n",
    "                thresholded_im[i, j] = 0\n",
    "            else:\n",
    "                thresholded_im[i, j] = 255\n",
    "                \n",
    "            error = oldpixel - thresholded_im[i, j]\n",
    "            \n",
    "            if j + 1 < thresholded_im.shape[1]:\n",
    "                thresholded_im[i,     j - 1] += error * 7 / 16.0\n",
    "            if i + 1 < thresholded_im.shape[0] and j + 1 < thresholded_im.shape[1]:\n",
    "                thresholded_im[i + 1, j + 1] += error * 3 / 16.0\n",
    "            if i + 1 < thresholded_im.shape[0]:\n",
    "                thresholded_im[i + 1, j] += error * 5 / 16.0\n",
    "            if i + 1 < thresholded_im.shape[0] and j - 1 >= 0:\n",
    "                thresholded_im[i + 1, j - 1] += error * 1 / 16.0\n",
    "\n",
    "    draw_gray(im)\n",
    "    draw_gray(thresholded_im)\n",
    "    \n",
    "    cv2.imwrite('../output_imgs/fs{}.png'.format(q), thresholded_im)"
   ]
  }
 ],
 "metadata": {
  "kernelspec": {
   "display_name": "Python 3",
   "language": "python",
   "name": "python3"
  },
  "language_info": {
   "codemirror_mode": {
    "name": "ipython",
    "version": 3
   },
   "file_extension": ".py",
   "mimetype": "text/x-python",
   "name": "python",
   "nbconvert_exporter": "python",
   "pygments_lexer": "ipython3",
   "version": "3.5.2"
  }
 },
 "nbformat": 4,
 "nbformat_minor": 0
}
